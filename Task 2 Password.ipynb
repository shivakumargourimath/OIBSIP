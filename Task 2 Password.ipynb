{
 "cells": [
  {
   "cell_type": "code",
   "execution_count": 2,
   "id": "f01bf67d-85fc-48cc-9517-327b9bdfe2e2",
   "metadata": {},
   "outputs": [
    {
     "name": "stdin",
     "output_type": "stream",
     "text": [
      "Enter the length of the password (default is 12):  6\n"
     ]
    },
    {
     "name": "stdout",
     "output_type": "stream",
     "text": [
      "Generated Password: v10S`d\n"
     ]
    }
   ],
   "source": [
    "import random\n",
    "import string\n",
    "\n",
    "def generate_password(length=12):\n",
    "    \"\"\"Generate a random password.\n",
    "\n",
    "    Args:\n",
    "        length (int): Length of the password. Defaults to 12.\n",
    "\n",
    "    Returns:\n",
    "        str: The generated password.\n",
    "    \"\"\"\n",
    "    characters = string.ascii_letters + string.digits + string.punctuation\n",
    "    password = ''.join(random.choice(characters) for _ in range(length))\n",
    "    return password\n",
    "\n",
    "def main():\n",
    "    \"\"\"Main function to generate and display a password.\"\"\"\n",
    "    try:\n",
    "        password_length = int(input(\"Enter the length of the password (default is 12): \"))\n",
    "        if password_length <= 0:\n",
    "            raise ValueError(\"Password length should be a positive integer.\")\n",
    "    except ValueError:\n",
    "        print(\"Invalid input. Using default password length of 12.\")\n",
    "        password_length = 12\n",
    "\n",
    "    generated_password = generate_password(password_length)\n",
    "    print(\"Generated Password:\", generated_password)\n",
    "\n",
    "if __name__ == \"__main__\":\n",
    "    main()"
   ]
  },
  {
   "cell_type": "code",
   "execution_count": null,
   "id": "1d0bf274-3849-4ec3-b6a6-072ff4e49cd4",
   "metadata": {},
   "outputs": [],
   "source": []
  }
 ],
 "metadata": {
  "kernelspec": {
   "display_name": "Python 3 (ipykernel)",
   "language": "python",
   "name": "python3"
  },
  "language_info": {
   "codemirror_mode": {
    "name": "ipython",
    "version": 3
   },
   "file_extension": ".py",
   "mimetype": "text/x-python",
   "name": "python",
   "nbconvert_exporter": "python",
   "pygments_lexer": "ipython3",
   "version": "3.12.4"
  }
 },
 "nbformat": 4,
 "nbformat_minor": 5
}
