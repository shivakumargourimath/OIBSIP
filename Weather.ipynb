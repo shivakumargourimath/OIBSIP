{
 "cells": [
  {
   "cell_type": "code",
   "execution_count": 7,
   "id": "50d901a3-ac18-45d3-bbaf-66451ded9ec3",
   "metadata": {},
   "outputs": [
    {
     "name": "stdin",
     "output_type": "stream",
     "text": [
      "Enter city name or ZIP code:  haveri\n"
     ]
    },
    {
     "name": "stdout",
     "output_type": "stream",
     "text": [
      "Location: Hāveri, IN\n",
      "Temperature: 23.1°C\n",
      "Humidity: 86%\n",
      "Weather: overcast clouds\n"
     ]
    }
   ],
   "source": [
    "import requests\n",
    "\n",
    "def fetch_weather(api_key, location):\n",
    "    url = f'http://api.openweathermap.org/data/2.5/weather?q={location}&appid={api_key}&units=metric'\n",
    "    response = requests.get(url)\n",
    "    if response.status_code == 200:\n",
    "        return response.json()\n",
    "    else:\n",
    "        return None\n",
    "\n",
    "def display_weather(weather_data):\n",
    "    if weather_data:\n",
    "        city = weather_data['name']\n",
    "        country = weather_data['sys']['country']\n",
    "        temperature = weather_data['main']['temp']\n",
    "        humidity = weather_data['main']['humidity']\n",
    "        weather_description = weather_data['weather'][0]['description']\n",
    "        print(f\"Location: {city}, {country}\")\n",
    "        print(f\"Temperature: {temperature}°C\")\n",
    "        print(f\"Humidity: {humidity}%\")\n",
    "        print(f\"Weather: {weather_description}\")\n",
    "    else:\n",
    "        print(\"Error: Unable to fetch weather data.\")\n",
    "\n",
    "def main():\n",
    "    api_key = '00dc4255d19f0fa8b2b5e7ba47bf2766'  # Replace with your OpenWeatherMap API key\n",
    "    location = input(\"Enter city name or ZIP code: \")\n",
    "    weather_data = fetch_weather(api_key, location)\n",
    "    display_weather(weather_data)\n",
    "\n",
    "if __name__ == \"__main__\":\n",
    "    main()"
   ]
  },
  {
   "cell_type": "code",
   "execution_count": null,
   "id": "3e64eeb1-ed0a-443b-a070-ab12011e4814",
   "metadata": {},
   "outputs": [],
   "source": []
  }
 ],
 "metadata": {
  "kernelspec": {
   "display_name": "Python 3 (ipykernel)",
   "language": "python",
   "name": "python3"
  },
  "language_info": {
   "codemirror_mode": {
    "name": "ipython",
    "version": 3
   },
   "file_extension": ".py",
   "mimetype": "text/x-python",
   "name": "python",
   "nbconvert_exporter": "python",
   "pygments_lexer": "ipython3",
   "version": "3.12.4"
  }
 },
 "nbformat": 4,
 "nbformat_minor": 5
}
